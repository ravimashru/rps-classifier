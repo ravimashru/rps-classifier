{
 "cells": [
  {
   "cell_type": "code",
   "execution_count": 1,
   "id": "f84751ad-1867-4f5e-973e-05d1e77592f2",
   "metadata": {},
   "outputs": [],
   "source": [
    "from fastai.vision.all import *\n",
    "from fastai.vision.widgets import *"
   ]
  },
  {
   "cell_type": "markdown",
   "id": "3ad612fe-4b3f-446b-b4cf-2b2c49cb9c1e",
   "metadata": {},
   "source": [
    "# rock-paper-scissors classifier\n",
    "\n",
    "Teaching computers to play rock-paper-scissors (and win) is the first step towards building Artificial General Intelligence. And the first step towards that is training a model to recognize rock, paper and scissors!\n",
    "\n",
    "Take a photo of your hand and let the model guess whether it's rock, paper or scissors!"
   ]
  },
  {
   "cell_type": "code",
   "execution_count": 6,
   "id": "2f8f7f24-b55e-43ed-8289-b8a78319f364",
   "metadata": {},
   "outputs": [
    {
     "data": {
      "text/plain": [
       "(<PIL.Image.Image image mode=RGBA size=128x128 at 0x142B015B0>,\n",
       " <PIL.Image.Image image mode=RGBA size=128x128 at 0x142B011C0>,\n",
       " <PIL.Image.Image image mode=RGBA size=128x128 at 0x142B01850>)"
      ]
     },
     "execution_count": 6,
     "metadata": {},
     "output_type": "execute_result"
    }
   ],
   "source": [
    "r_img = Image.open('r.png')\n",
    "p_img = Image.open('p.png')\n",
    "s_img = Image.open('s.png')\n",
    "\n",
    "r_img.to_thumb(128, 128), p_img.to_thumb(128, 128), s_img.to_thumb(128, 128)"
   ]
  },
  {
   "cell_type": "code",
   "execution_count": 2,
   "id": "0544831f-f81a-4a27-8c6e-71f007ed7c18",
   "metadata": {},
   "outputs": [],
   "source": [
    "path = Path()\n",
    "learn_inf = load_learner(path/'export.pkl', cpu=True)\n",
    "btn_upload = widgets.FileUpload()\n",
    "out_pl = widgets.Output()\n",
    "lbl_pred = widgets.Label()"
   ]
  },
  {
   "cell_type": "code",
   "execution_count": 3,
   "id": "ee1c669e-ebb1-40ba-89e8-dcf6b0f42a28",
   "metadata": {},
   "outputs": [],
   "source": [
    "def on_data_change(change):\n",
    "    lbl_pred.value = ''\n",
    "    img = PILImage.create(btn_upload.data[-1])\n",
    "    out_pl.clear_output()\n",
    "    with out_pl: display(img.to_thumb(128,128))\n",
    "    pred,pred_idx,probs = learn_inf.predict(img)\n",
    "    lbl_pred.value = f'Prediction: {pred}; Probability: {probs[pred_idx]:.04f}'"
   ]
  },
  {
   "cell_type": "code",
   "execution_count": 4,
   "id": "039e0add-c494-4b5d-b2ad-706c227cfc65",
   "metadata": {},
   "outputs": [],
   "source": [
    "btn_upload.observe(on_data_change, names=['data'])"
   ]
  },
  {
   "cell_type": "code",
   "execution_count": 5,
   "id": "7ce65a11-98a2-4145-8774-04f4511406ca",
   "metadata": {},
   "outputs": [
    {
     "data": {
      "application/vnd.jupyter.widget-view+json": {
       "model_id": "c12c90df505f4a02aa73105ca0659987",
       "version_major": 2,
       "version_minor": 0
      },
      "text/plain": [
       "VBox(children=(Label(value='Select your bear!'), FileUpload(value={}, description='Upload'), Output(), Label(v…"
      ]
     },
     "metadata": {},
     "output_type": "display_data"
    }
   ],
   "source": [
    "display(VBox([widgets.Label('Select your bear!'), btn_upload, out_pl, lbl_pred]))"
   ]
  }
 ],
 "metadata": {
  "kernelspec": {
   "display_name": "Python 3",
   "language": "python",
   "name": "python3"
  },
  "language_info": {
   "codemirror_mode": {
    "name": "ipython",
    "version": 3
   },
   "file_extension": ".py",
   "mimetype": "text/x-python",
   "name": "python",
   "nbconvert_exporter": "python",
   "pygments_lexer": "ipython3",
   "version": "3.9.5"
  }
 },
 "nbformat": 4,
 "nbformat_minor": 5
}
